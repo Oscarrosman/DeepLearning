{
 "cells": [
  {
   "cell_type": "code",
   "execution_count": 5,
   "metadata": {},
   "outputs": [
    {
     "name": "stdout",
     "output_type": "stream",
     "text": [
      "\n",
      "TensorFlow has access to the following devices:\n",
      "[PhysicalDevice(name='/physical_device:CPU:0', device_type='CPU')]\n",
      " > TensorFlow version: <module 'tensorflow._api.v2.version' from '/opt/homebrew/Caskroom/miniforge/base/envs/tif360/lib/python3.12/site-packages/tensorflow/_api/v2/version/__init__.py'>\n",
      " > Pytorch version 2.2.2\n",
      " > Is MPS built? True\n",
      " > Is MPS available? True\n",
      " > Using device: mps\n",
      "\n",
      " > Tensor: tensor([[0.9913, 0.4945, 0.5773, 0.6705],\n",
      "        [0.3419, 0.3046, 0.8462, 0.5514],\n",
      "        [0.7762, 0.1652, 0.3364, 0.2248]], device='mps:0')\n"
     ]
    }
   ],
   "source": [
    "import GPUAcessTest\n",
    "\n",
    "GPUAcessTest.GPUAccessTest()\n"
   ]
  },
  {
   "cell_type": "code",
   "execution_count": 6,
   "metadata": {},
   "outputs": [
    {
     "ename": "SyntaxError",
     "evalue": "invalid syntax (1343844277.py, line 1)",
     "output_type": "error",
     "traceback": [
      "\u001b[0;36m  Cell \u001b[0;32mIn[6], line 1\u001b[0;36m\u001b[0m\n\u001b[0;31m    python generate.py --outdir=out --trunc=1 --seeds=85,265,297,849 \\\u001b[0m\n\u001b[0m           ^\u001b[0m\n\u001b[0;31mSyntaxError\u001b[0m\u001b[0;31m:\u001b[0m invalid syntax\n"
     ]
    }
   ],
   "source": [
    "python generate.py --outdir=out --trunc=1 --seeds=85,265,297,849 \\\n",
    "    --network=https://nvlabs-fi-cdn.nvidia.com/stylegan2-ada-pytorch/pretrained/metfaces.pkl"
   ]
  },
  {
   "cell_type": "code",
   "execution_count": null,
   "metadata": {},
   "outputs": [],
   "source": []
  }
 ],
 "metadata": {
  "kernelspec": {
   "display_name": "tif360",
   "language": "python",
   "name": "python3"
  },
  "language_info": {
   "codemirror_mode": {
    "name": "ipython",
    "version": 3
   },
   "file_extension": ".py",
   "mimetype": "text/x-python",
   "name": "python",
   "nbconvert_exporter": "python",
   "pygments_lexer": "ipython3",
   "version": "3.12.3"
  }
 },
 "nbformat": 4,
 "nbformat_minor": 2
}
